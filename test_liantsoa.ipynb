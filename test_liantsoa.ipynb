{
 "cells": [
  {
   "cell_type": "code",
   "execution_count": null,
   "metadata": {},
   "outputs": [],
   "source": [
    "import pandas as pd\n",
    "\n",
    "url_donnees_depistage = \"https://www.data.gouv.fr/fr/datasets/r/426bab53-e3f5-4c6a-9d54-dba4442b3dbc\"\n",
    "df_depistage = pd.read_csv(url_donnees_depistage, sep=\";\")\n",
    "\n",
    "#on se débarrasse des colonnes inutiles et qu'on doit recalculer\n",
    "df_depistage = df_depistage.drop(columns=['cl_age90',\"Ti\",\"Tp\",\"Td\"])\n",
    "df_depistage = df_depistage.rename(columns = {'pop':'population','P':'nb patients positifs',\n",
    "'T':'nb patients testes'})\n",
    "\n",
    "#conversion des valeurs afin de pouvoir faire des calculs\n",
    "df_depistage[\"population\"] = df_depistage[\"population\"].str.replace(',','.').astype(float)\n",
    "df_depistage[\"nb patients positifs\"] = df_depistage[\"nb patients positifs\"].str.replace(',','.').astype(float)\n",
    "df_depistage[\"nb patients testes\"] = df_depistage[\"nb patients testes\"].str.replace(',','.').astype(float)\n",
    "\n",
    "df_depistage[\"dep\"] = df_depistage['dep'].astype(str)\n",
    "df_depistage[\"mois\"] = df_depistage[\"jour\"].astype(str).str[5:7]\n",
    "df_depistage[\"annee\"] = df_depistage[\"jour\"].astype(str).str[:4]\n",
    "\n",
    "df_depistage[\"id\"] = df_depistage[\"dep\"] + \"_\" + df_depistage[\"annee\"] + \"_\" + df_depistage[\"mois\"]\n"
   ]
  },
  {
   "cell_type": "code",
   "execution_count": null,
   "metadata": {},
   "outputs": [],
   "source": [
    "df_depistage = df_depistage.groupby(\"id\").agg({\"dep\":\"first\",\"mois\":\"first\",\"annee\":\"first\",\"population\":\"mean\",\"nb patients positifs\":\"sum\",\n",
    "\"nb patients testes\":\"sum\"})\n",
    "\n",
    "#définition de taux en pourcentage\n",
    "df_depistage['taux de positivite'] = df_depistage['nb patients positifs']*100/df_depistage['nb patients testes']\n",
    "df_depistage['taux de depistage'] = df_depistage['nb patients testes']*100/df_depistage['population']\n",
    "df_depistage[\"taux d'incidence\"] = df_depistage['nb patients positifs']*100/df_depistage['population']\n",
    "\n",
    "df_depistage.head(10)"
   ]
  },
  {
   "cell_type": "code",
   "execution_count": null,
   "metadata": {},
   "outputs": [],
   "source": [
    "df_test = df_depistage.set_index(\"dep\")\n",
    "df_test.head(10)"
   ]
  },
  {
   "cell_type": "code",
   "execution_count": null,
   "metadata": {},
   "outputs": [],
   "source": [
    "import pandas as pd\n",
    "url = \"https://www.data.gouv.fr/fr/datasets/r/eceb9fb4-3ebc-4da3-828d-f5939712600a\"\n",
    "df_urgences = pd.read_csv(url, sep=\";\")\n",
    "\n",
    "df_urgences = df_urgences[['dep','date_de_passage','sursaud_cl_age_corona','nbre_pass_corona', 'nbre_pass_tot','nbre_hospit_corona','nbre_acte_corona','nbre_acte_tot']]\n",
    "#on remplit les valeurs non renseignées par 0 \n",
    "df_urgences.fillna(0)\n",
    "df_urgences[\"dep\"] = df_urgences['dep'].astype(str)\n",
    "df_urgences[\"mois\"] = df_urgences[\"date_de_passage\"].astype(str).str[5:7]\n",
    "df_urgences[\"annee\"] = df_urgences[\"date_de_passage\"].astype(str).str[:4]\n",
    "\n",
    "df_urgences[\"id\"] = df_urgences[\"dep\"] + \"_\" + df_urgences[\"annee\"] + \"_\" + df_urgences[\"mois\"] + \"_\" + df_urgences[\"sursaud_cl_age_corona\"].astype(str)\n",
    "\n",
    "df_urgences = df_urgences.groupby(\"id\").agg({\"dep\":\"first\",\"mois\":\"first\",\"annee\":\"first\",\n",
    "\"sursaud_cl_age_corona\":\"first\",\"nbre_pass_corona\":\"sum\",\"nbre_pass_tot\":\"sum\",\n",
    "\"nbre_hospit_corona\":\"sum\",\"nbre_acte_corona\":\"sum\",\"nbre_acte_tot\":\"sum\"})\n",
    "\n",
    "df_urgences.head(10)"
   ]
  },
  {
   "cell_type": "code",
   "execution_count": null,
   "metadata": {},
   "outputs": [],
   "source": [
    "import pandas as pd\n",
    "url_bis = \"https://www.data.gouv.fr/fr/datasets/r/6fadff46-9efd-4c53-942a-54aca783c30c\"\n",
    "df_hosp = pd.read_csv(url_bis, sep = \";\")\n",
    "\n",
    "df_hosp = df_hosp.rename(columns = {'incid_hosp':'nb hospitalisations','incid_rea':'nb reanimations',\n",
    "'incid_dc':'nb deces','incid_rad':'nb retour au domicile'})\n",
    "df_hosp[\"dep\"] = df_hosp[\"dep\"].astype(str)\n",
    "df_hosp[\"mois\"] = df_hosp[\"jour\"].astype(str).str[5:7]\n",
    "df_hosp[\"annee\"] = df_hosp[\"jour\"].astype(str).str[:4]\n",
    "\n",
    "df_hosp[\"id\"] = df_hosp[\"dep\"] + \"_\" + df_hosp[\"annee\"] + \"_\" + df_hosp[\"mois\"] \n",
    "df_hosp = df_hosp.groupby(\"id\").agg({\"dep\":\"first\",\"mois\":\"first\",\"annee\":\"first\",\"nb hospitalisations\":\"sum\",\"nb reanimations\":\"sum\",\n",
    " \"nb deces\":\"sum\", \"nb retour au domicile\":\"sum\"})\n",
    "\n",
    "df_hosp.head(10)\n"
   ]
  },
  {
   "cell_type": "code",
   "execution_count": null,
   "metadata": {},
   "outputs": [],
   "source": [
    "!pip install openpyxl"
   ]
  },
  {
   "cell_type": "code",
   "execution_count": null,
   "metadata": {},
   "outputs": [],
   "source": [
    "import pandas as pd\n",
    "from fileopener import *\n",
    "\n",
    "# import des dataframe grâce au fileopener\n",
    "file = \"donnees.txt\"\n",
    "df_list = dataframe_creator(file)\n",
    "# ordre des df : hospitalisations, urgences, dépistages, etablissements, espérance de vie, niveaux de vie, pauvreté monétaire, vieillissement, population selon age\n",
    "df_hosp = df_list[0]\n",
    "df_urgences = df_list[1]\n",
    "df_depistage = df_list[2]\n",
    "df_etab = df_list[3]\n",
    "df_espvie = df_list[4]\n",
    "df_nvvie = df_list[5]\n",
    "df_pauv = df_list[6]\n",
    "df_vieil = df_list[7]\n",
    "df_pop = df_list[8]\n",
    "df_deces = df_list[9]\n"
   ]
  },
  {
   "cell_type": "code",
   "execution_count": null,
   "metadata": {},
   "outputs": [],
   "source": [
    "df_hosp = df_hosp.rename(columns = {'incid_hosp':'nb hospitalisations','incid_rea':'nb reanimations',\n",
    "'incid_dc':'nb deces','incid_rad':'nb retour au domicile'})\n",
    "df_hosp[\"dep\"] = df_hosp[\"dep\"].astype(str)\n",
    "df_hosp[\"mois\"] = df_hosp[\"jour\"].astype(str).str[5:7]\n",
    "df_hosp[\"annee\"] = df_hosp[\"jour\"].astype(str).str[:4]\n",
    "\n",
    "df_hosp[\"id\"] = df_hosp[\"dep\"] + \"_\" + df_hosp[\"annee\"] + \"_\" + df_hosp[\"mois\"] \n",
    "df_hosp = df_hosp.groupby(\"id\").agg({\"dep\":\"first\",\"mois\":\"first\",\"annee\":\"first\",\"nb hospitalisations\":\"sum\",\"nb reanimations\":\"sum\",\n",
    " \"nb deces\":\"sum\", \"nb retour au domicile\":\"sum\"})\n",
    "\n",
    "\"\"\"\n",
    "#on remet les départements comme index de la df\n",
    "df_hosp = df_hosp.set_index(\"dep\")\n",
    "\"\"\"\n"
   ]
  },
  {
   "cell_type": "code",
   "execution_count": 12,
   "metadata": {},
   "outputs": [
    {
     "name": "stdout",
     "output_type": "stream",
     "text": [
      "dep                      102\n",
      "mois                      12\n",
      "annee                      4\n",
      "nb hospitalisations      905\n",
      "nb reanimations          300\n",
      "nb deces                 272\n",
      "nb retour au domicile    810\n",
      "dtype: int64\n"
     ]
    }
   ],
   "source": [
    "print(df_hosp.nunique())"
   ]
  }
 ],
 "metadata": {
  "kernelspec": {
   "display_name": "base",
   "language": "python",
   "name": "python3"
  },
  "language_info": {
   "codemirror_mode": {
    "name": "ipython",
    "version": 3
   },
   "file_extension": ".py",
   "mimetype": "text/x-python",
   "name": "python",
   "nbconvert_exporter": "python",
   "pygments_lexer": "ipython3",
   "version": "3.12.7"
  }
 },
 "nbformat": 4,
 "nbformat_minor": 2
}
