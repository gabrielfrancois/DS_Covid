{
 "cells": [
  {
   "cell_type": "markdown",
   "metadata": {},
   "source": [
    "# Les facteurs géographiques du Covid : corrélation et causalité\n",
    "## Analyse des corrélations entre indicateurs sociaux départementaux et viralité/mortalité du Covid par département"
   ]
  },
  {
   "cell_type": "markdown",
   "metadata": {},
   "source": [
    "### Problématique et contexte\n",
    "\n",
    "Le Covid-19 a été un évènement marquant du siècle, impactant au niveau mondial la vie de tous les êtres humains. La pandémie, et ses conséquences (comme les politiques de confinement) ont eu un impact fort sur l'économie et sur la vie quotidienne des habitants dans tous les pays. Plus grave encore, c'est le bilan humain du Covid qui est marquant, avec presque 7 millions d'individus décédés dûs au Covid-19 à travers le monde.\n",
    "\n",
    "Dans le cadre de ce projet Python pour la Data Science, nous réalisons une étude de cas sur le territoire français métropolitain. Nous cherchons à étudier et à analyser l'impact du Covid en fonction du département, et en particulier en fonction de certains indicateurs sociaux des départements.\n",
    "Cette étude part d'une hypothèse simple : les départements avec le plus de pauvreté ou le plus haut taux de vieillesse devraient être les plus impactés.\n"
   ]
  },
  {
   "cell_type": "markdown",
   "metadata": {},
   "source": [
    "### Données\n",
    "\n",
    "Pour réaliser ce projet, nous utilisons exclusivement des données publiques fournies par des services ministérielles : d'une part, les données mises à disposition sur data.gouv.fr relatives au Covid, d'autre part, les données mises à disposition par la DREES (Direction de la Recherche, des Études, de l'Évaluation et des Statistiques). En particulier, nous avons fait appel aux bases de donnéees suivantes :\n",
    "\n",
    "* Pour data.gouv, les données relatives aux hospitalisations durant le Covid, aux passages aux urgences, aux nombres de dépistages; et au registre des établissements de santé géolocalisées.\n",
    "* Pour les données de la DREES, les données relatives à l'espérance de vie, à la disparité des niveaux de vie, à l'intensité de la pauvreté monétaire, à l'indice de vieillissement et à la population selon âge.\n",
    "\n",
    "Le découpage géographique choisi pour cette étude est, comme précisé plus haut, les départements, échelle la plus précise où l'on dispose du maximum d'informations pertinentes.\n",
    "Malheureusement, nous n'avons pas pu inclure dans notre étude les départements et territoires d'Outre-mer au vu de l'hétérogénéïté des données disponibles les concernant."
   ]
  },
  {
   "cell_type": "markdown",
   "metadata": {},
   "source": [
    "### Structure du projet\n",
    "\n",
    "Nous avons choisi pour réaliser ce projet une structure modulaire assez classique afin de distinguer dans le code différentes étapes :\n",
    "- l'import des données (fileopener.py)\n",
    "- le nettoyage des données (datapreprocessing.py)\n",
    "- le"
   ]
  }
 ],
 "metadata": {
  "kernelspec": {
   "display_name": "Python 3 (ipykernel)",
   "language": "python",
   "name": "python3"
  },
  "language_info": {
   "codemirror_mode": {
    "name": "ipython",
    "version": 3
   },
   "file_extension": ".py",
   "mimetype": "text/x-python",
   "name": "python",
   "nbconvert_exporter": "python",
   "pygments_lexer": "ipython3",
   "version": "3.12.7"
  }
 },
 "nbformat": 4,
 "nbformat_minor": 4
}
